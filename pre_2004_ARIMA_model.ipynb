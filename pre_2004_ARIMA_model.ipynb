{
 "cells": [
  {
   "cell_type": "markdown",
   "id": "6d1bb770",
   "metadata": {},
   "source": [
    "# Pre-2004 Wildfire Prediction Using ARIMAX\n",
    "- We will use ARIMAX to predict the **number of wildfires per day** and the **average fire size** in California. The model will use environmental data such as **temperature** and **precipitation** to improve accuracy."
   ]
  },
  {
   "cell_type": "code",
   "execution_count": 1,
   "id": "3db2a99f",
   "metadata": {},
   "outputs": [],
   "source": [
    "import numpy as np\n",
    "import pandas as pd\n",
    "import matplotlib.pyplot as plt\n",
    "from sklearn.metrics import mean_squared_error\n",
    "from statsmodels.tsa.stattools import adfuller\n",
    "from statsmodels.graphics.tsaplots import plot_acf, plot_pacf\n",
    "from statsmodels.tsa.statespace.sarimax import SARIMAX\n",
    "from pmdarima import auto_arima"
   ]
  },
  {
   "cell_type": "code",
   "execution_count": 2,
   "id": "bece7424",
   "metadata": {},
   "outputs": [
    {
     "data": {
      "text/html": [
       "<div>\n",
       "<style scoped>\n",
       "    .dataframe tbody tr th:only-of-type {\n",
       "        vertical-align: middle;\n",
       "    }\n",
       "\n",
       "    .dataframe tbody tr th {\n",
       "        vertical-align: top;\n",
       "    }\n",
       "\n",
       "    .dataframe thead th {\n",
       "        text-align: right;\n",
       "    }\n",
       "</style>\n",
       "<table border=\"1\" class=\"dataframe\">\n",
       "  <thead>\n",
       "    <tr style=\"text-align: right;\">\n",
       "      <th></th>\n",
       "      <th>DiscoveryDate</th>\n",
       "      <th>DiscoveryDayOfYear</th>\n",
       "      <th>DiscoveryTime</th>\n",
       "      <th>ContainmentDate</th>\n",
       "      <th>ContainmentDayOfYear</th>\n",
       "      <th>ContainmentTime</th>\n",
       "      <th>FireSize</th>\n",
       "      <th>FireSizeClass</th>\n",
       "      <th>Latitude</th>\n",
       "      <th>Longitude</th>\n",
       "      <th>CauseClassification</th>\n",
       "      <th>GeneralCause</th>\n",
       "      <th>MinTemperature</th>\n",
       "      <th>MaxTemperature</th>\n",
       "      <th>AvgTemperature</th>\n",
       "      <th>Precipitation</th>\n",
       "      <th>Snowfall</th>\n",
       "    </tr>\n",
       "  </thead>\n",
       "  <tbody>\n",
       "    <tr>\n",
       "      <th>0</th>\n",
       "      <td>1992-01-01</td>\n",
       "      <td>1</td>\n",
       "      <td>01:30</td>\n",
       "      <td>1992-01-01</td>\n",
       "      <td>1.0</td>\n",
       "      <td>02:10</td>\n",
       "      <td>0.1</td>\n",
       "      <td>A</td>\n",
       "      <td>38.205000</td>\n",
       "      <td>-120.335000</td>\n",
       "      <td>Natural</td>\n",
       "      <td>Natural</td>\n",
       "      <td>3.89</td>\n",
       "      <td>13.89</td>\n",
       "      <td>8.89</td>\n",
       "      <td>0.00</td>\n",
       "      <td>0.0</td>\n",
       "    </tr>\n",
       "    <tr>\n",
       "      <th>1</th>\n",
       "      <td>1992-01-01</td>\n",
       "      <td>1</td>\n",
       "      <td>13:30</td>\n",
       "      <td>1992-01-01</td>\n",
       "      <td>1.0</td>\n",
       "      <td>17:00</td>\n",
       "      <td>5.0</td>\n",
       "      <td>B</td>\n",
       "      <td>33.166700</td>\n",
       "      <td>-116.634200</td>\n",
       "      <td>Human</td>\n",
       "      <td>Debris and open burning</td>\n",
       "      <td>-1.67</td>\n",
       "      <td>12.78</td>\n",
       "      <td>5.56</td>\n",
       "      <td>0.00</td>\n",
       "      <td>0.0</td>\n",
       "    </tr>\n",
       "    <tr>\n",
       "      <th>2</th>\n",
       "      <td>1992-01-01</td>\n",
       "      <td>1</td>\n",
       "      <td>14:37</td>\n",
       "      <td>1992-01-01</td>\n",
       "      <td>1.0</td>\n",
       "      <td>15:07</td>\n",
       "      <td>0.2</td>\n",
       "      <td>A</td>\n",
       "      <td>33.663889</td>\n",
       "      <td>-116.171944</td>\n",
       "      <td>Human</td>\n",
       "      <td>Misuse of fire by a minor</td>\n",
       "      <td>-1.67</td>\n",
       "      <td>12.78</td>\n",
       "      <td>5.56</td>\n",
       "      <td>0.00</td>\n",
       "      <td>0.0</td>\n",
       "    </tr>\n",
       "    <tr>\n",
       "      <th>3</th>\n",
       "      <td>1992-01-02</td>\n",
       "      <td>2</td>\n",
       "      <td>14:37</td>\n",
       "      <td>1992-01-02</td>\n",
       "      <td>2.0</td>\n",
       "      <td>15:07</td>\n",
       "      <td>0.2</td>\n",
       "      <td>A</td>\n",
       "      <td>33.030000</td>\n",
       "      <td>-116.831944</td>\n",
       "      <td>Human</td>\n",
       "      <td>Missing data/not specified/undetermined</td>\n",
       "      <td>-1.11</td>\n",
       "      <td>12.22</td>\n",
       "      <td>5.56</td>\n",
       "      <td>0.00</td>\n",
       "      <td>0.0</td>\n",
       "    </tr>\n",
       "    <tr>\n",
       "      <th>4</th>\n",
       "      <td>1992-01-02</td>\n",
       "      <td>2</td>\n",
       "      <td>14:37</td>\n",
       "      <td>1992-01-02</td>\n",
       "      <td>2.0</td>\n",
       "      <td>15:17</td>\n",
       "      <td>0.5</td>\n",
       "      <td>B</td>\n",
       "      <td>33.896111</td>\n",
       "      <td>-116.990000</td>\n",
       "      <td>Human</td>\n",
       "      <td>Missing data/not specified/undetermined</td>\n",
       "      <td>-1.11</td>\n",
       "      <td>12.22</td>\n",
       "      <td>5.56</td>\n",
       "      <td>0.00</td>\n",
       "      <td>0.0</td>\n",
       "    </tr>\n",
       "    <tr>\n",
       "      <th>...</th>\n",
       "      <td>...</td>\n",
       "      <td>...</td>\n",
       "      <td>...</td>\n",
       "      <td>...</td>\n",
       "      <td>...</td>\n",
       "      <td>...</td>\n",
       "      <td>...</td>\n",
       "      <td>...</td>\n",
       "      <td>...</td>\n",
       "      <td>...</td>\n",
       "      <td>...</td>\n",
       "      <td>...</td>\n",
       "      <td>...</td>\n",
       "      <td>...</td>\n",
       "      <td>...</td>\n",
       "      <td>...</td>\n",
       "      <td>...</td>\n",
       "    </tr>\n",
       "    <tr>\n",
       "      <th>96831</th>\n",
       "      <td>2003-12-29</td>\n",
       "      <td>363</td>\n",
       "      <td>07:41</td>\n",
       "      <td>2003-12-29</td>\n",
       "      <td>363.0</td>\n",
       "      <td>08:00</td>\n",
       "      <td>0.1</td>\n",
       "      <td>A</td>\n",
       "      <td>34.140000</td>\n",
       "      <td>-117.150000</td>\n",
       "      <td>Human</td>\n",
       "      <td>Power generation/transmission/distribution</td>\n",
       "      <td>-1.67</td>\n",
       "      <td>9.44</td>\n",
       "      <td>3.89</td>\n",
       "      <td>0.00</td>\n",
       "      <td>0.0</td>\n",
       "    </tr>\n",
       "    <tr>\n",
       "      <th>96832</th>\n",
       "      <td>2003-12-29</td>\n",
       "      <td>363</td>\n",
       "      <td>21:40</td>\n",
       "      <td>2003-12-29</td>\n",
       "      <td>363.0</td>\n",
       "      <td>22:30</td>\n",
       "      <td>0.1</td>\n",
       "      <td>A</td>\n",
       "      <td>34.381944</td>\n",
       "      <td>-118.097222</td>\n",
       "      <td>Human</td>\n",
       "      <td>Arson/incendiarism</td>\n",
       "      <td>-1.67</td>\n",
       "      <td>9.44</td>\n",
       "      <td>3.89</td>\n",
       "      <td>0.00</td>\n",
       "      <td>0.0</td>\n",
       "    </tr>\n",
       "    <tr>\n",
       "      <th>96833</th>\n",
       "      <td>2003-12-31</td>\n",
       "      <td>365</td>\n",
       "      <td>15:58</td>\n",
       "      <td>2003-12-31</td>\n",
       "      <td>365.0</td>\n",
       "      <td>16:31</td>\n",
       "      <td>0.2</td>\n",
       "      <td>A</td>\n",
       "      <td>33.968056</td>\n",
       "      <td>-117.515000</td>\n",
       "      <td>Human</td>\n",
       "      <td>Equipment and vehicle use</td>\n",
       "      <td>0.56</td>\n",
       "      <td>12.78</td>\n",
       "      <td>6.67</td>\n",
       "      <td>0.00</td>\n",
       "      <td>0.0</td>\n",
       "    </tr>\n",
       "    <tr>\n",
       "      <th>96834</th>\n",
       "      <td>2003-12-31</td>\n",
       "      <td>365</td>\n",
       "      <td>16:53</td>\n",
       "      <td>2003-12-31</td>\n",
       "      <td>365.0</td>\n",
       "      <td>17:02</td>\n",
       "      <td>0.1</td>\n",
       "      <td>A</td>\n",
       "      <td>38.185000</td>\n",
       "      <td>-120.371389</td>\n",
       "      <td>Human</td>\n",
       "      <td>Debris and open burning</td>\n",
       "      <td>3.89</td>\n",
       "      <td>11.11</td>\n",
       "      <td>7.50</td>\n",
       "      <td>0.51</td>\n",
       "      <td>0.0</td>\n",
       "    </tr>\n",
       "    <tr>\n",
       "      <th>96835</th>\n",
       "      <td>2003-12-31</td>\n",
       "      <td>365</td>\n",
       "      <td>18:05</td>\n",
       "      <td>2003-12-31</td>\n",
       "      <td>365.0</td>\n",
       "      <td>18:25</td>\n",
       "      <td>0.1</td>\n",
       "      <td>A</td>\n",
       "      <td>32.933400</td>\n",
       "      <td>-115.134100</td>\n",
       "      <td>Human</td>\n",
       "      <td>Recreation and ceremony</td>\n",
       "      <td>0.56</td>\n",
       "      <td>12.78</td>\n",
       "      <td>6.67</td>\n",
       "      <td>0.00</td>\n",
       "      <td>0.0</td>\n",
       "    </tr>\n",
       "  </tbody>\n",
       "</table>\n",
       "<p>96836 rows × 17 columns</p>\n",
       "</div>"
      ],
      "text/plain": [
       "      DiscoveryDate  DiscoveryDayOfYear DiscoveryTime ContainmentDate  \\\n",
       "0        1992-01-01                   1         01:30      1992-01-01   \n",
       "1        1992-01-01                   1         13:30      1992-01-01   \n",
       "2        1992-01-01                   1         14:37      1992-01-01   \n",
       "3        1992-01-02                   2         14:37      1992-01-02   \n",
       "4        1992-01-02                   2         14:37      1992-01-02   \n",
       "...             ...                 ...           ...             ...   \n",
       "96831    2003-12-29                 363         07:41      2003-12-29   \n",
       "96832    2003-12-29                 363         21:40      2003-12-29   \n",
       "96833    2003-12-31                 365         15:58      2003-12-31   \n",
       "96834    2003-12-31                 365         16:53      2003-12-31   \n",
       "96835    2003-12-31                 365         18:05      2003-12-31   \n",
       "\n",
       "       ContainmentDayOfYear ContainmentTime  FireSize FireSizeClass  \\\n",
       "0                       1.0           02:10       0.1             A   \n",
       "1                       1.0           17:00       5.0             B   \n",
       "2                       1.0           15:07       0.2             A   \n",
       "3                       2.0           15:07       0.2             A   \n",
       "4                       2.0           15:17       0.5             B   \n",
       "...                     ...             ...       ...           ...   \n",
       "96831                 363.0           08:00       0.1             A   \n",
       "96832                 363.0           22:30       0.1             A   \n",
       "96833                 365.0           16:31       0.2             A   \n",
       "96834                 365.0           17:02       0.1             A   \n",
       "96835                 365.0           18:25       0.1             A   \n",
       "\n",
       "        Latitude   Longitude CauseClassification  \\\n",
       "0      38.205000 -120.335000             Natural   \n",
       "1      33.166700 -116.634200               Human   \n",
       "2      33.663889 -116.171944               Human   \n",
       "3      33.030000 -116.831944               Human   \n",
       "4      33.896111 -116.990000               Human   \n",
       "...          ...         ...                 ...   \n",
       "96831  34.140000 -117.150000               Human   \n",
       "96832  34.381944 -118.097222               Human   \n",
       "96833  33.968056 -117.515000               Human   \n",
       "96834  38.185000 -120.371389               Human   \n",
       "96835  32.933400 -115.134100               Human   \n",
       "\n",
       "                                     GeneralCause  MinTemperature  \\\n",
       "0                                         Natural            3.89   \n",
       "1                         Debris and open burning           -1.67   \n",
       "2                       Misuse of fire by a minor           -1.67   \n",
       "3         Missing data/not specified/undetermined           -1.11   \n",
       "4         Missing data/not specified/undetermined           -1.11   \n",
       "...                                           ...             ...   \n",
       "96831  Power generation/transmission/distribution           -1.67   \n",
       "96832                          Arson/incendiarism           -1.67   \n",
       "96833                   Equipment and vehicle use            0.56   \n",
       "96834                     Debris and open burning            3.89   \n",
       "96835                     Recreation and ceremony            0.56   \n",
       "\n",
       "       MaxTemperature  AvgTemperature  Precipitation  Snowfall  \n",
       "0               13.89            8.89           0.00       0.0  \n",
       "1               12.78            5.56           0.00       0.0  \n",
       "2               12.78            5.56           0.00       0.0  \n",
       "3               12.22            5.56           0.00       0.0  \n",
       "4               12.22            5.56           0.00       0.0  \n",
       "...               ...             ...            ...       ...  \n",
       "96831            9.44            3.89           0.00       0.0  \n",
       "96832            9.44            3.89           0.00       0.0  \n",
       "96833           12.78            6.67           0.00       0.0  \n",
       "96834           11.11            7.50           0.51       0.0  \n",
       "96835           12.78            6.67           0.00       0.0  \n",
       "\n",
       "[96836 rows x 17 columns]"
      ]
     },
     "execution_count": 2,
     "metadata": {},
     "output_type": "execute_result"
    }
   ],
   "source": [
    "df = pd.read_csv('pre_2004_data.csv')\n",
    "df"
   ]
  },
  {
   "cell_type": "code",
   "execution_count": 3,
   "id": "561a043a",
   "metadata": {},
   "outputs": [
    {
     "data": {
      "text/html": [
       "<div>\n",
       "<style scoped>\n",
       "    .dataframe tbody tr th:only-of-type {\n",
       "        vertical-align: middle;\n",
       "    }\n",
       "\n",
       "    .dataframe tbody tr th {\n",
       "        vertical-align: top;\n",
       "    }\n",
       "\n",
       "    .dataframe thead th {\n",
       "        text-align: right;\n",
       "    }\n",
       "</style>\n",
       "<table border=\"1\" class=\"dataframe\">\n",
       "  <thead>\n",
       "    <tr style=\"text-align: right;\">\n",
       "      <th></th>\n",
       "      <th>DiscoveryDate</th>\n",
       "      <th>FireSize</th>\n",
       "      <th>MaxTemperature</th>\n",
       "    </tr>\n",
       "  </thead>\n",
       "  <tbody>\n",
       "    <tr>\n",
       "      <th>0</th>\n",
       "      <td>1992-01-01</td>\n",
       "      <td>0.1</td>\n",
       "      <td>13.89</td>\n",
       "    </tr>\n",
       "    <tr>\n",
       "      <th>1</th>\n",
       "      <td>1992-01-01</td>\n",
       "      <td>5.0</td>\n",
       "      <td>12.78</td>\n",
       "    </tr>\n",
       "    <tr>\n",
       "      <th>2</th>\n",
       "      <td>1992-01-01</td>\n",
       "      <td>0.2</td>\n",
       "      <td>12.78</td>\n",
       "    </tr>\n",
       "    <tr>\n",
       "      <th>3</th>\n",
       "      <td>1992-01-02</td>\n",
       "      <td>0.2</td>\n",
       "      <td>12.22</td>\n",
       "    </tr>\n",
       "    <tr>\n",
       "      <th>4</th>\n",
       "      <td>1992-01-02</td>\n",
       "      <td>0.5</td>\n",
       "      <td>12.22</td>\n",
       "    </tr>\n",
       "  </tbody>\n",
       "</table>\n",
       "</div>"
      ],
      "text/plain": [
       "  DiscoveryDate  FireSize  MaxTemperature\n",
       "0    1992-01-01       0.1           13.89\n",
       "1    1992-01-01       5.0           12.78\n",
       "2    1992-01-01       0.2           12.78\n",
       "3    1992-01-02       0.2           12.22\n",
       "4    1992-01-02       0.5           12.22"
      ]
     },
     "execution_count": 3,
     "metadata": {},
     "output_type": "execute_result"
    }
   ],
   "source": [
    "# Select relevant columns for  prediction\n",
    "df_selected = df[['DiscoveryDate', 'FireSize', 'MaxTemperature']]\n",
    "df_selected.head()"
   ]
  },
  {
   "cell_type": "markdown",
   "id": "038546be",
   "metadata": {},
   "source": [
    "## Number of Wildfires per Day Prediction"
   ]
  },
  {
   "cell_type": "code",
   "execution_count": 4,
   "id": "50d8edde",
   "metadata": {},
   "outputs": [
    {
     "data": {
      "text/html": [
       "<div>\n",
       "<style scoped>\n",
       "    .dataframe tbody tr th:only-of-type {\n",
       "        vertical-align: middle;\n",
       "    }\n",
       "\n",
       "    .dataframe tbody tr th {\n",
       "        vertical-align: top;\n",
       "    }\n",
       "\n",
       "    .dataframe thead th {\n",
       "        text-align: right;\n",
       "    }\n",
       "</style>\n",
       "<table border=\"1\" class=\"dataframe\">\n",
       "  <thead>\n",
       "    <tr style=\"text-align: right;\">\n",
       "      <th></th>\n",
       "      <th>NumberOfFires</th>\n",
       "      <th>MaxTemperature</th>\n",
       "    </tr>\n",
       "    <tr>\n",
       "      <th>DiscoveryDate</th>\n",
       "      <th></th>\n",
       "      <th></th>\n",
       "    </tr>\n",
       "  </thead>\n",
       "  <tbody>\n",
       "    <tr>\n",
       "      <th>1992-01-01</th>\n",
       "      <td>3</td>\n",
       "      <td>13.150000</td>\n",
       "    </tr>\n",
       "    <tr>\n",
       "      <th>1992-01-02</th>\n",
       "      <td>3</td>\n",
       "      <td>12.220000</td>\n",
       "    </tr>\n",
       "    <tr>\n",
       "      <th>1992-01-03</th>\n",
       "      <td>1</td>\n",
       "      <td>13.890000</td>\n",
       "    </tr>\n",
       "    <tr>\n",
       "      <th>1992-01-04</th>\n",
       "      <td>2</td>\n",
       "      <td>12.220000</td>\n",
       "    </tr>\n",
       "    <tr>\n",
       "      <th>1992-01-06</th>\n",
       "      <td>1</td>\n",
       "      <td>11.670000</td>\n",
       "    </tr>\n",
       "    <tr>\n",
       "      <th>...</th>\n",
       "      <td>...</td>\n",
       "      <td>...</td>\n",
       "    </tr>\n",
       "    <tr>\n",
       "      <th>2003-12-24</th>\n",
       "      <td>1</td>\n",
       "      <td>13.330000</td>\n",
       "    </tr>\n",
       "    <tr>\n",
       "      <th>2003-12-27</th>\n",
       "      <td>1</td>\n",
       "      <td>13.330000</td>\n",
       "    </tr>\n",
       "    <tr>\n",
       "      <th>2003-12-28</th>\n",
       "      <td>3</td>\n",
       "      <td>10.736667</td>\n",
       "    </tr>\n",
       "    <tr>\n",
       "      <th>2003-12-29</th>\n",
       "      <td>3</td>\n",
       "      <td>9.440000</td>\n",
       "    </tr>\n",
       "    <tr>\n",
       "      <th>2003-12-31</th>\n",
       "      <td>3</td>\n",
       "      <td>12.223333</td>\n",
       "    </tr>\n",
       "  </tbody>\n",
       "</table>\n",
       "<p>4089 rows × 2 columns</p>\n",
       "</div>"
      ],
      "text/plain": [
       "               NumberOfFires  MaxTemperature\n",
       "DiscoveryDate                               \n",
       "1992-01-01                 3       13.150000\n",
       "1992-01-02                 3       12.220000\n",
       "1992-01-03                 1       13.890000\n",
       "1992-01-04                 2       12.220000\n",
       "1992-01-06                 1       11.670000\n",
       "...                      ...             ...\n",
       "2003-12-24                 1       13.330000\n",
       "2003-12-27                 1       13.330000\n",
       "2003-12-28                 3       10.736667\n",
       "2003-12-29                 3        9.440000\n",
       "2003-12-31                 3       12.223333\n",
       "\n",
       "[4089 rows x 2 columns]"
      ]
     },
     "execution_count": 4,
     "metadata": {},
     "output_type": "execute_result"
    }
   ],
   "source": [
    "# Group by DiscoveryDate and count the number of fires, average environmental factors\n",
    "df_aggregated = df_selected.groupby('DiscoveryDate').agg({\n",
    "    'FireSize': 'count', \n",
    "    'MaxTemperature': 'mean',  \n",
    "}).rename(columns={'FireSize': 'NumberOfFires'})  \n",
    "\n",
    "df_aggregated"
   ]
  },
  {
   "cell_type": "markdown",
   "id": "413eabe5",
   "metadata": {},
   "source": [
    "#### Set the Frequency to Daily and Fill Missing Data"
   ]
  },
  {
   "cell_type": "code",
   "execution_count": 5,
   "id": "6e901172",
   "metadata": {},
   "outputs": [
    {
     "data": {
      "text/html": [
       "<div>\n",
       "<style scoped>\n",
       "    .dataframe tbody tr th:only-of-type {\n",
       "        vertical-align: middle;\n",
       "    }\n",
       "\n",
       "    .dataframe tbody tr th {\n",
       "        vertical-align: top;\n",
       "    }\n",
       "\n",
       "    .dataframe thead th {\n",
       "        text-align: right;\n",
       "    }\n",
       "</style>\n",
       "<table border=\"1\" class=\"dataframe\">\n",
       "  <thead>\n",
       "    <tr style=\"text-align: right;\">\n",
       "      <th></th>\n",
       "      <th>NumberOfFires</th>\n",
       "      <th>MaxTemperature</th>\n",
       "    </tr>\n",
       "    <tr>\n",
       "      <th>DiscoveryDate</th>\n",
       "      <th></th>\n",
       "      <th></th>\n",
       "    </tr>\n",
       "  </thead>\n",
       "  <tbody>\n",
       "    <tr>\n",
       "      <th>1992-01-01</th>\n",
       "      <td>3.0</td>\n",
       "      <td>13.150</td>\n",
       "    </tr>\n",
       "    <tr>\n",
       "      <th>1992-01-02</th>\n",
       "      <td>3.0</td>\n",
       "      <td>12.220</td>\n",
       "    </tr>\n",
       "    <tr>\n",
       "      <th>1992-01-03</th>\n",
       "      <td>1.0</td>\n",
       "      <td>13.890</td>\n",
       "    </tr>\n",
       "    <tr>\n",
       "      <th>1992-01-04</th>\n",
       "      <td>2.0</td>\n",
       "      <td>12.220</td>\n",
       "    </tr>\n",
       "    <tr>\n",
       "      <th>1992-01-05</th>\n",
       "      <td>0.0</td>\n",
       "      <td>11.945</td>\n",
       "    </tr>\n",
       "  </tbody>\n",
       "</table>\n",
       "</div>"
      ],
      "text/plain": [
       "               NumberOfFires  MaxTemperature\n",
       "DiscoveryDate                               \n",
       "1992-01-01               3.0          13.150\n",
       "1992-01-02               3.0          12.220\n",
       "1992-01-03               1.0          13.890\n",
       "1992-01-04               2.0          12.220\n",
       "1992-01-05               0.0          11.945"
      ]
     },
     "execution_count": 5,
     "metadata": {},
     "output_type": "execute_result"
    }
   ],
   "source": [
    "# Ensure DiscoveryDate has daily frequency\n",
    "df_aggregated.index = pd.to_datetime(df_aggregated.index)\n",
    "df_aggregated = df_aggregated.asfreq('D')\n",
    "\n",
    "# Fill missing NumberOfFires with 0\n",
    "df_aggregated['NumberOfFires'].fillna(0, inplace=True)\n",
    "\n",
    "# Handle missing environmental variables with interpolation\n",
    "df_aggregated['MaxTemperature'].interpolate(method='linear', inplace=True)\n",
    "\n",
    "df_aggregated.head()"
   ]
  },
  {
   "cell_type": "code",
   "execution_count": 6,
   "id": "bef00ad9",
   "metadata": {},
   "outputs": [
    {
     "data": {
      "text/plain": [
       "(DiscoveryDate\n",
       " 1992-01-01    3.0\n",
       " 1992-01-02    3.0\n",
       " 1992-01-03    1.0\n",
       " 1992-01-04    2.0\n",
       " 1992-01-05    0.0\n",
       " Freq: D, Name: NumberOfFires, dtype: float64,\n",
       "                MaxTemperature\n",
       " DiscoveryDate                \n",
       " 1992-01-01             13.150\n",
       " 1992-01-02             12.220\n",
       " 1992-01-03             13.890\n",
       " 1992-01-04             12.220\n",
       " 1992-01-05             11.945)"
      ]
     },
     "execution_count": 6,
     "metadata": {},
     "output_type": "execute_result"
    }
   ],
   "source": [
    "# Define the target variable (number of fires per day)\n",
    "y = df_aggregated['NumberOfFires']\n",
    "\n",
    "# Define the exogenous variables (MaxTemperature)\n",
    "X = df_aggregated[['MaxTemperature']]\n",
    "\n",
    "y.head(), X.head()"
   ]
  },
  {
   "cell_type": "markdown",
   "id": "1b0c967f",
   "metadata": {},
   "source": [
    "#### Check for Stationarity and Determine **d**"
   ]
  },
  {
   "cell_type": "code",
   "execution_count": 7,
   "id": "b9c7a935",
   "metadata": {},
   "outputs": [
    {
     "name": "stdout",
     "output_type": "stream",
     "text": [
      "ADF Statistic: -4.412652157938259\n",
      "p-value: 0.0002818970145479848\n",
      "The data is stationary, no differencing is needed.\n"
     ]
    }
   ],
   "source": [
    "# Perform the ADF test on the target variable\n",
    "adf_test = adfuller(df_aggregated['NumberOfFires'])\n",
    "\n",
    "# Display the results\n",
    "print(f'ADF Statistic: {adf_test[0]}')\n",
    "print(f'p-value: {adf_test[1]}')\n",
    "\n",
    "if adf_test[1] > 0.05:\n",
    "    print(\"The data is non-stationary, and differencing is needed.\")\n",
    "else:\n",
    "    print(\"The data is stationary, no differencing is needed.\")"
   ]
  },
  {
   "cell_type": "markdown",
   "id": "0bd1e823",
   "metadata": {},
   "source": [
    "#### Determine **p** and **q** Using ACF and PACF Plots"
   ]
  },
  {
   "cell_type": "code",
   "execution_count": 8,
   "id": "17ac6c1b",
   "metadata": {},
   "outputs": [
    {
     "data": {
      "text/plain": [
       "Text(0.5, 1.0, 'PACF Plot')"
      ]
     },
     "execution_count": 8,
     "metadata": {},
     "output_type": "execute_result"
    },
    {
     "data": {
      "image/png": "[encoded data removed]",
      "text/plain": [
       "<Figure size 1200x600 with 2 Axes>"
      ]
     },
     "metadata": {},
     "output_type": "display_data"
    }
   ],
   "source": [
    "plt.figure(figsize=(12,6))\n",
    "\n",
    "# Plot ACF (for q)\n",
    "plt.subplot(121)\n",
    "plot_acf(df_aggregated['NumberOfFires'], lags=20, ax=plt.gca())\n",
    "plt.title('ACF Plot')\n",
    "\n",
    "# PACF plot (for p)\n",
    "plt.subplot(122)\n",
    "plot_pacf(df_aggregated['NumberOfFires'], lags=20, ax=plt.gca())\n",
    "plt.title('PACF Plot')"
   ]
  },
  {
   "cell_type": "markdown",
   "id": "dcb6d0cb",
   "metadata": {},
   "source": [
    "#### Manually determined ARIMAX parameters"
   ]
  },
  {
   "cell_type": "code",
   "execution_count": 9,
   "id": "8a0553b4",
   "metadata": {},
   "outputs": [],
   "source": [
    "p = 1  # From PACF plot\n",
    "d = 0  # From ADF test\n",
    "q = 2  # From ACF plot"
   ]
  },
  {
   "cell_type": "markdown",
   "id": "40f9c1e8",
   "metadata": {},
   "source": [
    "#### Split the Data into Training and Testing Sets"
   ]
  },
  {
   "cell_type": "code",
   "execution_count": 10,
   "id": "b56136f7",
   "metadata": {},
   "outputs": [
    {
     "data": {
      "text/plain": [
       "4383"
      ]
     },
     "execution_count": 10,
     "metadata": {},
     "output_type": "execute_result"
    }
   ],
   "source": [
    "len(df_aggregated)"
   ]
  },
  {
   "cell_type": "code",
   "execution_count": 11,
   "id": "910946eb",
   "metadata": {},
   "outputs": [
    {
     "name": "stdout",
     "output_type": "stream",
     "text": [
      "Training set size: 3507\n",
      "Test set size: 876\n"
     ]
    }
   ],
   "source": [
    "# Define the test size\n",
    "test_size = 0.2\n",
    "\n",
    "# Calculate the number of test samples\n",
    "test_samples = int(len(df_aggregated) * test_size)\n",
    "\n",
    "# Split the data\n",
    "y_train = df_aggregated['NumberOfFires'][:-test_samples]\n",
    "y_test = df_aggregated['NumberOfFires'][-test_samples:]\n",
    "\n",
    "X_train = df_aggregated[['MaxTemperature']][:-test_samples]\n",
    "X_test = df_aggregated[['MaxTemperature']][-test_samples:]\n",
    "\n",
    "print(f'Training set size: {len(y_train)}')\n",
    "print(f'Test set size: {len(y_test)}')"
   ]
  },
  {
   "cell_type": "code",
   "execution_count": 12,
   "id": "4bbd0dcd",
   "metadata": {},
   "outputs": [
    {
     "data": {
      "text/plain": [
       "(DiscoveryDate\n",
       " 1992-01-01     3.0\n",
       " 1992-01-02     3.0\n",
       " 1992-01-03     1.0\n",
       " 1992-01-04     2.0\n",
       " 1992-01-05     0.0\n",
       "               ... \n",
       " 2001-08-03    41.0\n",
       " 2001-08-04    34.0\n",
       " 2001-08-05    48.0\n",
       " 2001-08-06    50.0\n",
       " 2001-08-07    48.0\n",
       " Freq: D, Name: NumberOfFires, Length: 3507, dtype: float64,\n",
       " DiscoveryDate\n",
       " 2001-08-08    149.0\n",
       " 2001-08-09     87.0\n",
       " 2001-08-10     44.0\n",
       " 2001-08-11     26.0\n",
       " 2001-08-12     47.0\n",
       "               ...  \n",
       " 2003-12-27      1.0\n",
       " 2003-12-28      3.0\n",
       " 2003-12-29      3.0\n",
       " 2003-12-30      0.0\n",
       " 2003-12-31      3.0\n",
       " Freq: D, Name: NumberOfFires, Length: 876, dtype: float64)"
      ]
     },
     "execution_count": 12,
     "metadata": {},
     "output_type": "execute_result"
    }
   ],
   "source": [
    "y_train, y_test"
   ]
  },
  {
   "cell_type": "code",
   "execution_count": 13,
   "id": "0dd1940a",
   "metadata": {},
   "outputs": [
    {
     "data": {
      "text/plain": [
       "<matplotlib.legend.Legend at 0x2a30a4b9fd0>"
      ]
     },
     "execution_count": 13,
     "metadata": {},
     "output_type": "execute_result"
    },
    {
     "data": {
      "image/png": "[encoded data removed]",
      "text/plain": [
       "<Figure size 1000x600 with 1 Axes>"
      ]
     },
     "metadata": {},
     "output_type": "display_data"
    }
   ],
   "source": [
    "plt.figure(figsize=(10, 6))\n",
    "plt.plot(y_train.index, y_train, label='Traning Number of Fires')\n",
    "plt.title('Wildfires per Day(Training Dataset)')\n",
    "plt.xlabel('Date')\n",
    "plt.ylabel('Number of Wildfires')\n",
    "plt.legend()"
   ]
  },
  {
   "cell_type": "code",
   "execution_count": 14,
   "id": "473fb9e7",
   "metadata": {},
   "outputs": [
    {
     "data": {
      "text/plain": [
       "(               MaxTemperature\n",
       " DiscoveryDate                \n",
       " 1992-01-01          13.150000\n",
       " 1992-01-02          12.220000\n",
       " 1992-01-03          13.890000\n",
       " 1992-01-04          12.220000\n",
       " 1992-01-05          11.945000\n",
       " ...                       ...\n",
       " 2001-08-03          32.761951\n",
       " 2001-08-04          33.725882\n",
       " 2001-08-05          34.911875\n",
       " 2001-08-06          35.264800\n",
       " 2001-08-07          36.537292\n",
       " \n",
       " [3507 rows x 1 columns],\n",
       "                MaxTemperature\n",
       " DiscoveryDate                \n",
       " 2001-08-08          36.599060\n",
       " 2001-08-09          35.324138\n",
       " 2001-08-10          35.593864\n",
       " 2001-08-11          33.675769\n",
       " 2001-08-12          35.423617\n",
       " ...                       ...\n",
       " 2003-12-27          13.330000\n",
       " 2003-12-28          10.736667\n",
       " 2003-12-29           9.440000\n",
       " 2003-12-30          10.831667\n",
       " 2003-12-31          12.223333\n",
       " \n",
       " [876 rows x 1 columns])"
      ]
     },
     "execution_count": 14,
     "metadata": {},
     "output_type": "execute_result"
    }
   ],
   "source": [
    "X_train, X_test"
   ]
  },
  {
   "cell_type": "markdown",
   "id": "360713d9",
   "metadata": {},
   "source": [
    "#### Fit the ARIMAX Model Using the Training Data"
   ]
  },
  {
   "cell_type": "code",
   "execution_count": 15,
   "id": "fe15f53a",
   "metadata": {},
   "outputs": [
    {
     "data": {
      "text/html": [
       "<table class=\"simpletable\">\n",
       "<caption>SARIMAX Results</caption>\n",
       "<tr>\n",
       "  <th>Dep. Variable:</th>     <td>NumberOfFires</td>  <th>  No. Observations:  </th>    <td>3507</td>   \n",
       "</tr>\n",
       "<tr>\n",
       "  <th>Model:</th>           <td>SARIMAX(1, 0, 2)</td> <th>  Log Likelihood     </th> <td>-14214.313</td>\n",
       "</tr>\n",
       "<tr>\n",
       "  <th>Date:</th>            <td>Sat, 21 Sep 2024</td> <th>  AIC                </th>  <td>28438.626</td>\n",
       "</tr>\n",
       "<tr>\n",
       "  <th>Time:</th>                <td>23:36:26</td>     <th>  BIC                </th>  <td>28469.438</td>\n",
       "</tr>\n",
       "<tr>\n",
       "  <th>Sample:</th>             <td>01-01-1992</td>    <th>  HQIC               </th>  <td>28449.621</td>\n",
       "</tr>\n",
       "<tr>\n",
       "  <th></th>                   <td>- 08-07-2001</td>   <th>                     </th>      <td> </td>    \n",
       "</tr>\n",
       "<tr>\n",
       "  <th>Covariance Type:</th>        <td>opg</td>       <th>                     </th>      <td> </td>    \n",
       "</tr>\n",
       "</table>\n",
       "<table class=\"simpletable\">\n",
       "<tr>\n",
       "         <td></td>           <th>coef</th>     <th>std err</th>      <th>z</th>      <th>P>|z|</th>  <th>[0.025</th>    <th>0.975]</th>  \n",
       "</tr>\n",
       "<tr>\n",
       "  <th>MaxTemperature</th> <td>    0.2114</td> <td>    0.090</td> <td>    2.342</td> <td> 0.019</td> <td>    0.034</td> <td>    0.388</td>\n",
       "</tr>\n",
       "<tr>\n",
       "  <th>ar.L1</th>          <td>    0.9915</td> <td>    0.002</td> <td>  488.892</td> <td> 0.000</td> <td>    0.988</td> <td>    0.995</td>\n",
       "</tr>\n",
       "<tr>\n",
       "  <th>ma.L1</th>          <td>   -0.4585</td> <td>    0.006</td> <td>  -76.438</td> <td> 0.000</td> <td>   -0.470</td> <td>   -0.447</td>\n",
       "</tr>\n",
       "<tr>\n",
       "  <th>ma.L2</th>          <td>   -0.2897</td> <td>    0.008</td> <td>  -37.088</td> <td> 0.000</td> <td>   -0.305</td> <td>   -0.274</td>\n",
       "</tr>\n",
       "<tr>\n",
       "  <th>sigma2</th>         <td>  193.9842</td> <td>    0.911</td> <td>  213.017</td> <td> 0.000</td> <td>  192.199</td> <td>  195.769</td>\n",
       "</tr>\n",
       "</table>\n",
       "<table class=\"simpletable\">\n",
       "<tr>\n",
       "  <th>Ljung-Box (L1) (Q):</th>     <td>5.78</td> <th>  Jarque-Bera (JB):  </th> <td>1143134.24</td>\n",
       "</tr>\n",
       "<tr>\n",
       "  <th>Prob(Q):</th>                <td>0.02</td> <th>  Prob(JB):          </th>    <td>0.00</td>   \n",
       "</tr>\n",
       "<tr>\n",
       "  <th>Heteroskedasticity (H):</th> <td>0.85</td> <th>  Skew:              </th>    <td>5.76</td>   \n",
       "</tr>\n",
       "<tr>\n",
       "  <th>Prob(H) (two-sided):</th>    <td>0.01</td> <th>  Kurtosis:          </th>    <td>90.69</td>  \n",
       "</tr>\n",
       "</table><br/><br/>Warnings:<br/>[1] Covariance matrix calculated using the outer product of gradients (complex-step)."
      ],
      "text/latex": [
       "\\begin{center}\n",
       "\\begin{tabular}{lclc}\n",
       "\\toprule\n",
       "\\textbf{Dep. Variable:}          &  NumberOfFires   & \\textbf{  No. Observations:  } &    3507     \\\\\n",
       "\\textbf{Model:}                  & SARIMAX(1, 0, 2) & \\textbf{  Log Likelihood     } & -14214.313  \\\\\n",
       "\\textbf{Date:}                   & Sat, 21 Sep 2024 & \\textbf{  AIC                } & 28438.626   \\\\\n",
       "\\textbf{Time:}                   &     23:36:26     & \\textbf{  BIC                } & 28469.438   \\\\\n",
       "\\textbf{Sample:}                 &    01-01-1992    & \\textbf{  HQIC               } & 28449.621   \\\\\n",
       "\\textbf{}                        &   - 08-07-2001   & \\textbf{                     } &             \\\\\n",
       "\\textbf{Covariance Type:}        &       opg        & \\textbf{                     } &             \\\\\n",
       "\\bottomrule\n",
       "\\end{tabular}\n",
       "\\begin{tabular}{lcccccc}\n",
       "                        & \\textbf{coef} & \\textbf{std err} & \\textbf{z} & \\textbf{P$> |$z$|$} & \\textbf{[0.025} & \\textbf{0.975]}  \\\\\n",
       "\\midrule\n",
       "\\textbf{MaxTemperature} &       0.2114  &        0.090     &     2.342  &         0.019        &        0.034    &        0.388     \\\\\n",
       "\\textbf{ar.L1}          &       0.9915  &        0.002     &   488.892  &         0.000        &        0.988    &        0.995     \\\\\n",
       "\\textbf{ma.L1}          &      -0.4585  &        0.006     &   -76.438  &         0.000        &       -0.470    &       -0.447     \\\\\n",
       "\\textbf{ma.L2}          &      -0.2897  &        0.008     &   -37.088  &         0.000        &       -0.305    &       -0.274     \\\\\n",
       "\\textbf{sigma2}         &     193.9842  &        0.911     &   213.017  &         0.000        &      192.199    &      195.769     \\\\\n",
       "\\bottomrule\n",
       "\\end{tabular}\n",
       "\\begin{tabular}{lclc}\n",
       "\\textbf{Ljung-Box (L1) (Q):}     & 5.78 & \\textbf{  Jarque-Bera (JB):  } & 1143134.24  \\\\\n",
       "\\textbf{Prob(Q):}                & 0.02 & \\textbf{  Prob(JB):          } &    0.00     \\\\\n",
       "\\textbf{Heteroskedasticity (H):} & 0.85 & \\textbf{  Skew:              } &    5.76     \\\\\n",
       "\\textbf{Prob(H) (two-sided):}    & 0.01 & \\textbf{  Kurtosis:          } &   90.69     \\\\\n",
       "\\bottomrule\n",
       "\\end{tabular}\n",
       "%\\caption{SARIMAX Results}\n",
       "\\end{center}\n",
       "\n",
       "Warnings: \\newline\n",
       " [1] Covariance matrix calculated using the outer product of gradients (complex-step)."
      ],
      "text/plain": [
       "<class 'statsmodels.iolib.summary.Summary'>\n",
       "\"\"\"\n",
       "                               SARIMAX Results                                \n",
       "==============================================================================\n",
       "Dep. Variable:          NumberOfFires   No. Observations:                 3507\n",
       "Model:               SARIMAX(1, 0, 2)   Log Likelihood              -14214.313\n",
       "Date:                Sat, 21 Sep 2024   AIC                          28438.626\n",
       "Time:                        23:36:26   BIC                          28469.438\n",
       "Sample:                    01-01-1992   HQIC                         28449.621\n",
       "                         - 08-07-2001                                         \n",
       "Covariance Type:                  opg                                         \n",
       "==================================================================================\n",
       "                     coef    std err          z      P>|z|      [0.025      0.975]\n",
       "----------------------------------------------------------------------------------\n",
       "MaxTemperature     0.2114      0.090      2.342      0.019       0.034       0.388\n",
       "ar.L1              0.9915      0.002    488.892      0.000       0.988       0.995\n",
       "ma.L1             -0.4585      0.006    -76.438      0.000      -0.470      -0.447\n",
       "ma.L2             -0.2897      0.008    -37.088      0.000      -0.305      -0.274\n",
       "sigma2           193.9842      0.911    213.017      0.000     192.199     195.769\n",
       "===================================================================================\n",
       "Ljung-Box (L1) (Q):                   5.78   Jarque-Bera (JB):           1143134.24\n",
       "Prob(Q):                              0.02   Prob(JB):                         0.00\n",
       "Heteroskedasticity (H):               0.85   Skew:                             5.76\n",
       "Prob(H) (two-sided):                  0.01   Kurtosis:                        90.69\n",
       "===================================================================================\n",
       "\n",
       "Warnings:\n",
       "[1] Covariance matrix calculated using the outer product of gradients (complex-step).\n",
       "\"\"\""
      ]
     },
     "execution_count": 15,
     "metadata": {},
     "output_type": "execute_result"
    }
   ],
   "source": [
    "model = SARIMAX(y_train, exog=X_train, order=(p, d, q))\n",
    "\n",
    "# Train the model\n",
    "model_fit = model.fit()\n",
    "\n",
    "# Summary of the model\n",
    "model_fit.summary()"
   ]
  },
  {
   "cell_type": "markdown",
   "id": "e5866d06",
   "metadata": {},
   "source": [
    "#### Make Predictions on the Test Data"
   ]
  },
  {
   "cell_type": "code",
   "execution_count": 16,
   "id": "9bae9140",
   "metadata": {},
   "outputs": [
    {
     "name": "stdout",
     "output_type": "stream",
     "text": [
      "Root Mean Squared Error (RMSE): 27.381726274904477\n"
     ]
    }
   ],
   "source": [
    "# Make predictions on the test data\n",
    "predictions = model_fit.predict(start=len(y_train), end=len(y_train) + len(y_test) - 1, exog=X_test)\n",
    "\n",
    "# Calculate the RMSE (Root Mean Squared Error)\n",
    "rmse = mean_squared_error(y_test, predictions, squared=False)\n",
    "print(f'Root Mean Squared Error (RMSE): {rmse}')"
   ]
  },
  {
   "cell_type": "code",
   "execution_count": 17,
   "id": "9abd4456",
   "metadata": {},
   "outputs": [
    {
     "name": "stdout",
     "output_type": "stream",
     "text": [
      "Normalized RMSE: 133.10%\n"
     ]
    }
   ],
   "source": [
    "# Calculate the Normalized RMSE as a percentage of the mean\n",
    "mean_fires = y_test.mean()\n",
    "std_fires = y_test.std()\n",
    "nrmse = (rmse / mean_fires) * 100\n",
    "print(f\"Normalized RMSE: {nrmse:.2f}%\")"
   ]
  },
  {
   "cell_type": "code",
   "execution_count": 18,
   "id": "0c89056b",
   "metadata": {},
   "outputs": [
    {
     "data": {
      "text/plain": [
       "<matplotlib.legend.Legend at 0x2a30a610c90>"
      ]
     },
     "execution_count": 18,
     "metadata": {},
     "output_type": "execute_result"
    },
    {
     "data": {
      "image/png": "[encoded data removed]",
      "text/plain": [
       "<Figure size 1000x600 with 1 Axes>"
      ]
     },
     "metadata": {},
     "output_type": "display_data"
    }
   ],
   "source": [
    "plt.figure(figsize=(10, 6))\n",
    "plt.plot(y_test.index, y_test, label='Actual Number of Fires')\n",
    "plt.plot(y_test.index, predictions, label='Predicted Number of Fires', linestyle='--')\n",
    "plt.title('Actual vs Predicted Wildfires per Day')\n",
    "plt.xlabel('Date')\n",
    "plt.ylabel('Number of Wildfires')\n",
    "plt.legend()"
   ]
  },
  {
   "cell_type": "markdown",
   "id": "aaa5ea58",
   "metadata": {},
   "source": [
    "### Automatically find the best ARIMA parameters"
   ]
  },
  {
   "cell_type": "code",
   "execution_count": 19,
   "id": "53771ead",
   "metadata": {},
   "outputs": [
    {
     "name": "stdout",
     "output_type": "stream",
     "text": [
      "Performing stepwise search to minimize aic\n",
      " ARIMA(2,0,2)(0,0,0)[0]             : AIC=28364.228, Time=0.98 sec\n",
      " ARIMA(0,0,0)(0,0,0)[0]             : AIC=34726.590, Time=0.07 sec\n",
      " ARIMA(1,0,0)(0,0,0)[0]             : AIC=28927.761, Time=0.19 sec\n",
      " ARIMA(0,0,1)(0,0,0)[0]             : AIC=32071.974, Time=0.67 sec\n",
      " ARIMA(1,0,2)(0,0,0)[0]             : AIC=28443.900, Time=1.47 sec\n",
      " ARIMA(2,0,1)(0,0,0)[0]             : AIC=28363.123, Time=2.42 sec\n",
      " ARIMA(1,0,1)(0,0,0)[0]             : AIC=28662.764, Time=0.90 sec\n",
      " ARIMA(2,0,0)(0,0,0)[0]             : AIC=28778.626, Time=0.44 sec\n",
      " ARIMA(3,0,1)(0,0,0)[0]             : AIC=28364.192, Time=2.38 sec\n",
      " ARIMA(3,0,0)(0,0,0)[0]             : AIC=28671.830, Time=0.67 sec\n",
      " ARIMA(3,0,2)(0,0,0)[0]             : AIC=28366.992, Time=2.14 sec\n",
      " ARIMA(2,0,1)(0,0,0)[0] intercept   : AIC=28356.776, Time=3.85 sec\n",
      " ARIMA(1,0,1)(0,0,0)[0] intercept   : AIC=28608.134, Time=1.82 sec\n",
      " ARIMA(2,0,0)(0,0,0)[0] intercept   : AIC=28681.358, Time=0.94 sec\n",
      " ARIMA(3,0,1)(0,0,0)[0] intercept   : AIC=28357.754, Time=6.23 sec\n",
      " ARIMA(2,0,2)(0,0,0)[0] intercept   : AIC=28357.798, Time=4.66 sec\n",
      " ARIMA(1,0,0)(0,0,0)[0] intercept   : AIC=28784.665, Time=0.36 sec\n",
      " ARIMA(1,0,2)(0,0,0)[0] intercept   : AIC=28431.872, Time=2.97 sec\n",
      " ARIMA(3,0,0)(0,0,0)[0] intercept   : AIC=28602.186, Time=2.05 sec\n",
      " ARIMA(3,0,2)(0,0,0)[0] intercept   : AIC=inf, Time=9.10 sec\n",
      "\n",
      "Best model:  ARIMA(2,0,1)(0,0,0)[0] intercept\n",
      "Total fit time: 44.320 seconds\n"
     ]
    },
    {
     "data": {
      "text/html": [
       "<table class=\"simpletable\">\n",
       "<caption>SARIMAX Results</caption>\n",
       "<tr>\n",
       "  <th>Dep. Variable:</th>           <td>y</td>        <th>  No. Observations:  </th>    <td>3507</td>   \n",
       "</tr>\n",
       "<tr>\n",
       "  <th>Model:</th>           <td>SARIMAX(2, 0, 1)</td> <th>  Log Likelihood     </th> <td>-14173.388</td>\n",
       "</tr>\n",
       "<tr>\n",
       "  <th>Date:</th>            <td>Sat, 21 Sep 2024</td> <th>  AIC                </th>  <td>28356.776</td>\n",
       "</tr>\n",
       "<tr>\n",
       "  <th>Time:</th>                <td>23:37:11</td>     <th>  BIC                </th>  <td>28387.589</td>\n",
       "</tr>\n",
       "<tr>\n",
       "  <th>Sample:</th>             <td>01-01-1992</td>    <th>  HQIC               </th>  <td>28367.772</td>\n",
       "</tr>\n",
       "<tr>\n",
       "  <th></th>                   <td>- 08-07-2001</td>   <th>                     </th>      <td> </td>    \n",
       "</tr>\n",
       "<tr>\n",
       "  <th>Covariance Type:</th>        <td>opg</td>       <th>                     </th>      <td> </td>    \n",
       "</tr>\n",
       "</table>\n",
       "<table class=\"simpletable\">\n",
       "<tr>\n",
       "      <td></td>         <th>coef</th>     <th>std err</th>      <th>z</th>      <th>P>|z|</th>  <th>[0.025</th>    <th>0.975]</th>  \n",
       "</tr>\n",
       "<tr>\n",
       "  <th>intercept</th> <td>    0.1011</td> <td>    0.083</td> <td>    1.215</td> <td> 0.224</td> <td>   -0.062</td> <td>    0.264</td>\n",
       "</tr>\n",
       "<tr>\n",
       "  <th>ar.L1</th>     <td>    1.4610</td> <td>    0.009</td> <td>  167.422</td> <td> 0.000</td> <td>    1.444</td> <td>    1.478</td>\n",
       "</tr>\n",
       "<tr>\n",
       "  <th>ar.L2</th>     <td>   -0.4655</td> <td>    0.008</td> <td>  -57.990</td> <td> 0.000</td> <td>   -0.481</td> <td>   -0.450</td>\n",
       "</tr>\n",
       "<tr>\n",
       "  <th>ma.L1</th>     <td>   -0.8937</td> <td>    0.008</td> <td> -107.672</td> <td> 0.000</td> <td>   -0.910</td> <td>   -0.877</td>\n",
       "</tr>\n",
       "<tr>\n",
       "  <th>sigma2</th>    <td>  189.5254</td> <td>    0.973</td> <td>  194.796</td> <td> 0.000</td> <td>  187.618</td> <td>  191.432</td>\n",
       "</tr>\n",
       "</table>\n",
       "<table class=\"simpletable\">\n",
       "<tr>\n",
       "  <th>Ljung-Box (L1) (Q):</th>     <td>0.19</td> <th>  Jarque-Bera (JB):  </th> <td>1156171.78</td>\n",
       "</tr>\n",
       "<tr>\n",
       "  <th>Prob(Q):</th>                <td>0.66</td> <th>  Prob(JB):          </th>    <td>0.00</td>   \n",
       "</tr>\n",
       "<tr>\n",
       "  <th>Heteroskedasticity (H):</th> <td>0.85</td> <th>  Skew:              </th>    <td>5.67</td>   \n",
       "</tr>\n",
       "<tr>\n",
       "  <th>Prob(H) (two-sided):</th>    <td>0.00</td> <th>  Kurtosis:          </th>    <td>91.22</td>  \n",
       "</tr>\n",
       "</table><br/><br/>Warnings:<br/>[1] Covariance matrix calculated using the outer product of gradients (complex-step)."
      ],
      "text/latex": [
       "\\begin{center}\n",
       "\\begin{tabular}{lclc}\n",
       "\\toprule\n",
       "\\textbf{Dep. Variable:}          &        y         & \\textbf{  No. Observations:  } &    3507     \\\\\n",
       "\\textbf{Model:}                  & SARIMAX(2, 0, 1) & \\textbf{  Log Likelihood     } & -14173.388  \\\\\n",
       "\\textbf{Date:}                   & Sat, 21 Sep 2024 & \\textbf{  AIC                } & 28356.776   \\\\\n",
       "\\textbf{Time:}                   &     23:37:11     & \\textbf{  BIC                } & 28387.589   \\\\\n",
       "\\textbf{Sample:}                 &    01-01-1992    & \\textbf{  HQIC               } & 28367.772   \\\\\n",
       "\\textbf{}                        &   - 08-07-2001   & \\textbf{                     } &             \\\\\n",
       "\\textbf{Covariance Type:}        &       opg        & \\textbf{                     } &             \\\\\n",
       "\\bottomrule\n",
       "\\end{tabular}\n",
       "\\begin{tabular}{lcccccc}\n",
       "                   & \\textbf{coef} & \\textbf{std err} & \\textbf{z} & \\textbf{P$> |$z$|$} & \\textbf{[0.025} & \\textbf{0.975]}  \\\\\n",
       "\\midrule\n",
       "\\textbf{intercept} &       0.1011  &        0.083     &     1.215  &         0.224        &       -0.062    &        0.264     \\\\\n",
       "\\textbf{ar.L1}     &       1.4610  &        0.009     &   167.422  &         0.000        &        1.444    &        1.478     \\\\\n",
       "\\textbf{ar.L2}     &      -0.4655  &        0.008     &   -57.990  &         0.000        &       -0.481    &       -0.450     \\\\\n",
       "\\textbf{ma.L1}     &      -0.8937  &        0.008     &  -107.672  &         0.000        &       -0.910    &       -0.877     \\\\\n",
       "\\textbf{sigma2}    &     189.5254  &        0.973     &   194.796  &         0.000        &      187.618    &      191.432     \\\\\n",
       "\\bottomrule\n",
       "\\end{tabular}\n",
       "\\begin{tabular}{lclc}\n",
       "\\textbf{Ljung-Box (L1) (Q):}     & 0.19 & \\textbf{  Jarque-Bera (JB):  } & 1156171.78  \\\\\n",
       "\\textbf{Prob(Q):}                & 0.66 & \\textbf{  Prob(JB):          } &    0.00     \\\\\n",
       "\\textbf{Heteroskedasticity (H):} & 0.85 & \\textbf{  Skew:              } &    5.67     \\\\\n",
       "\\textbf{Prob(H) (two-sided):}    & 0.00 & \\textbf{  Kurtosis:          } &   91.22     \\\\\n",
       "\\bottomrule\n",
       "\\end{tabular}\n",
       "%\\caption{SARIMAX Results}\n",
       "\\end{center}\n",
       "\n",
       "Warnings: \\newline\n",
       " [1] Covariance matrix calculated using the outer product of gradients (complex-step)."
      ],
      "text/plain": [
       "<class 'statsmodels.iolib.summary.Summary'>\n",
       "\"\"\"\n",
       "                               SARIMAX Results                                \n",
       "==============================================================================\n",
       "Dep. Variable:                      y   No. Observations:                 3507\n",
       "Model:               SARIMAX(2, 0, 1)   Log Likelihood              -14173.388\n",
       "Date:                Sat, 21 Sep 2024   AIC                          28356.776\n",
       "Time:                        23:37:11   BIC                          28387.589\n",
       "Sample:                    01-01-1992   HQIC                         28367.772\n",
       "                         - 08-07-2001                                         \n",
       "Covariance Type:                  opg                                         \n",
       "==============================================================================\n",
       "                 coef    std err          z      P>|z|      [0.025      0.975]\n",
       "------------------------------------------------------------------------------\n",
       "intercept      0.1011      0.083      1.215      0.224      -0.062       0.264\n",
       "ar.L1          1.4610      0.009    167.422      0.000       1.444       1.478\n",
       "ar.L2         -0.4655      0.008    -57.990      0.000      -0.481      -0.450\n",
       "ma.L1         -0.8937      0.008   -107.672      0.000      -0.910      -0.877\n",
       "sigma2       189.5254      0.973    194.796      0.000     187.618     191.432\n",
       "===================================================================================\n",
       "Ljung-Box (L1) (Q):                   0.19   Jarque-Bera (JB):           1156171.78\n",
       "Prob(Q):                              0.66   Prob(JB):                         0.00\n",
       "Heteroskedasticity (H):               0.85   Skew:                             5.67\n",
       "Prob(H) (two-sided):                  0.00   Kurtosis:                        91.22\n",
       "===================================================================================\n",
       "\n",
       "Warnings:\n",
       "[1] Covariance matrix calculated using the outer product of gradients (complex-step).\n",
       "\"\"\""
      ]
     },
     "execution_count": 19,
     "metadata": {},
     "output_type": "execute_result"
    }
   ],
   "source": [
    "auto_model = auto_arima(y_train, exogenous=X_train, seasonal=False, trace=True, suppress_warnings=True)\n",
    "auto_model.summary()"
   ]
  },
  {
   "cell_type": "markdown",
   "id": "05ba16e0",
   "metadata": {},
   "source": [
    "#### Fit the Model with the Selected Parameters"
   ]
  },
  {
   "cell_type": "code",
   "execution_count": 20,
   "id": "b8df98bd",
   "metadata": {},
   "outputs": [
    {
     "name": "stderr",
     "output_type": "stream",
     "text": [
      "C:\\ProgramData\\anaconda3\\Lib\\site-packages\\statsmodels\\tsa\\statespace\\sarimax.py:966: UserWarning: Non-stationary starting autoregressive parameters found. Using zeros as starting parameters.\n",
      "  warn('Non-stationary starting autoregressive parameters'\n"
     ]
    },
    {
     "data": {
      "text/html": [
       "<table class=\"simpletable\">\n",
       "<caption>SARIMAX Results</caption>\n",
       "<tr>\n",
       "  <th>Dep. Variable:</th>     <td>NumberOfFires</td>  <th>  No. Observations:  </th>    <td>3507</td>   \n",
       "</tr>\n",
       "<tr>\n",
       "  <th>Model:</th>           <td>SARIMAX(2, 0, 1)</td> <th>  Log Likelihood     </th> <td>-14175.046</td>\n",
       "</tr>\n",
       "<tr>\n",
       "  <th>Date:</th>            <td>Sat, 21 Sep 2024</td> <th>  AIC                </th>  <td>28360.093</td>\n",
       "</tr>\n",
       "<tr>\n",
       "  <th>Time:</th>                <td>23:37:16</td>     <th>  BIC                </th>  <td>28390.905</td>\n",
       "</tr>\n",
       "<tr>\n",
       "  <th>Sample:</th>             <td>01-01-1992</td>    <th>  HQIC               </th>  <td>28371.088</td>\n",
       "</tr>\n",
       "<tr>\n",
       "  <th></th>                   <td>- 08-07-2001</td>   <th>                     </th>      <td> </td>    \n",
       "</tr>\n",
       "<tr>\n",
       "  <th>Covariance Type:</th>        <td>opg</td>       <th>                     </th>      <td> </td>    \n",
       "</tr>\n",
       "</table>\n",
       "<table class=\"simpletable\">\n",
       "<tr>\n",
       "         <td></td>           <th>coef</th>     <th>std err</th>      <th>z</th>      <th>P>|z|</th>  <th>[0.025</th>    <th>0.975]</th>  \n",
       "</tr>\n",
       "<tr>\n",
       "  <th>MaxTemperature</th> <td>    0.1768</td> <td>    0.092</td> <td>    1.928</td> <td> 0.054</td> <td>   -0.003</td> <td>    0.357</td>\n",
       "</tr>\n",
       "<tr>\n",
       "  <th>ar.L1</th>          <td>    1.4626</td> <td>    0.008</td> <td>  186.932</td> <td> 0.000</td> <td>    1.447</td> <td>    1.478</td>\n",
       "</tr>\n",
       "<tr>\n",
       "  <th>ar.L2</th>          <td>   -0.4650</td> <td>    0.008</td> <td>  -61.358</td> <td> 0.000</td> <td>   -0.480</td> <td>   -0.450</td>\n",
       "</tr>\n",
       "<tr>\n",
       "  <th>ma.L1</th>          <td>   -0.9007</td> <td>    0.007</td> <td> -124.725</td> <td> 0.000</td> <td>   -0.915</td> <td>   -0.887</td>\n",
       "</tr>\n",
       "<tr>\n",
       "  <th>sigma2</th>         <td>  189.6801</td> <td>    1.012</td> <td>  187.357</td> <td> 0.000</td> <td>  187.696</td> <td>  191.664</td>\n",
       "</tr>\n",
       "</table>\n",
       "<table class=\"simpletable\">\n",
       "<tr>\n",
       "  <th>Ljung-Box (L1) (Q):</th>     <td>0.15</td> <th>  Jarque-Bera (JB):  </th> <td>1147562.45</td>\n",
       "</tr>\n",
       "<tr>\n",
       "  <th>Prob(Q):</th>                <td>0.70</td> <th>  Prob(JB):          </th>    <td>0.00</td>   \n",
       "</tr>\n",
       "<tr>\n",
       "  <th>Heteroskedasticity (H):</th> <td>0.85</td> <th>  Skew:              </th>    <td>5.63</td>   \n",
       "</tr>\n",
       "<tr>\n",
       "  <th>Prob(H) (two-sided):</th>    <td>0.00</td> <th>  Kurtosis:          </th>    <td>90.90</td>  \n",
       "</tr>\n",
       "</table><br/><br/>Warnings:<br/>[1] Covariance matrix calculated using the outer product of gradients (complex-step)."
      ],
      "text/latex": [
       "\\begin{center}\n",
       "\\begin{tabular}{lclc}\n",
       "\\toprule\n",
       "\\textbf{Dep. Variable:}          &  NumberOfFires   & \\textbf{  No. Observations:  } &    3507     \\\\\n",
       "\\textbf{Model:}                  & SARIMAX(2, 0, 1) & \\textbf{  Log Likelihood     } & -14175.046  \\\\\n",
       "\\textbf{Date:}                   & Sat, 21 Sep 2024 & \\textbf{  AIC                } & 28360.093   \\\\\n",
       "\\textbf{Time:}                   &     23:37:16     & \\textbf{  BIC                } & 28390.905   \\\\\n",
       "\\textbf{Sample:}                 &    01-01-1992    & \\textbf{  HQIC               } & 28371.088   \\\\\n",
       "\\textbf{}                        &   - 08-07-2001   & \\textbf{                     } &             \\\\\n",
       "\\textbf{Covariance Type:}        &       opg        & \\textbf{                     } &             \\\\\n",
       "\\bottomrule\n",
       "\\end{tabular}\n",
       "\\begin{tabular}{lcccccc}\n",
       "                        & \\textbf{coef} & \\textbf{std err} & \\textbf{z} & \\textbf{P$> |$z$|$} & \\textbf{[0.025} & \\textbf{0.975]}  \\\\\n",
       "\\midrule\n",
       "\\textbf{MaxTemperature} &       0.1768  &        0.092     &     1.928  &         0.054        &       -0.003    &        0.357     \\\\\n",
       "\\textbf{ar.L1}          &       1.4626  &        0.008     &   186.932  &         0.000        &        1.447    &        1.478     \\\\\n",
       "\\textbf{ar.L2}          &      -0.4650  &        0.008     &   -61.358  &         0.000        &       -0.480    &       -0.450     \\\\\n",
       "\\textbf{ma.L1}          &      -0.9007  &        0.007     &  -124.725  &         0.000        &       -0.915    &       -0.887     \\\\\n",
       "\\textbf{sigma2}         &     189.6801  &        1.012     &   187.357  &         0.000        &      187.696    &      191.664     \\\\\n",
       "\\bottomrule\n",
       "\\end{tabular}\n",
       "\\begin{tabular}{lclc}\n",
       "\\textbf{Ljung-Box (L1) (Q):}     & 0.15 & \\textbf{  Jarque-Bera (JB):  } & 1147562.45  \\\\\n",
       "\\textbf{Prob(Q):}                & 0.70 & \\textbf{  Prob(JB):          } &    0.00     \\\\\n",
       "\\textbf{Heteroskedasticity (H):} & 0.85 & \\textbf{  Skew:              } &    5.63     \\\\\n",
       "\\textbf{Prob(H) (two-sided):}    & 0.00 & \\textbf{  Kurtosis:          } &   90.90     \\\\\n",
       "\\bottomrule\n",
       "\\end{tabular}\n",
       "%\\caption{SARIMAX Results}\n",
       "\\end{center}\n",
       "\n",
       "Warnings: \\newline\n",
       " [1] Covariance matrix calculated using the outer product of gradients (complex-step)."
      ],
      "text/plain": [
       "<class 'statsmodels.iolib.summary.Summary'>\n",
       "\"\"\"\n",
       "                               SARIMAX Results                                \n",
       "==============================================================================\n",
       "Dep. Variable:          NumberOfFires   No. Observations:                 3507\n",
       "Model:               SARIMAX(2, 0, 1)   Log Likelihood              -14175.046\n",
       "Date:                Sat, 21 Sep 2024   AIC                          28360.093\n",
       "Time:                        23:37:16   BIC                          28390.905\n",
       "Sample:                    01-01-1992   HQIC                         28371.088\n",
       "                         - 08-07-2001                                         \n",
       "Covariance Type:                  opg                                         \n",
       "==================================================================================\n",
       "                     coef    std err          z      P>|z|      [0.025      0.975]\n",
       "----------------------------------------------------------------------------------\n",
       "MaxTemperature     0.1768      0.092      1.928      0.054      -0.003       0.357\n",
       "ar.L1              1.4626      0.008    186.932      0.000       1.447       1.478\n",
       "ar.L2             -0.4650      0.008    -61.358      0.000      -0.480      -0.450\n",
       "ma.L1             -0.9007      0.007   -124.725      0.000      -0.915      -0.887\n",
       "sigma2           189.6801      1.012    187.357      0.000     187.696     191.664\n",
       "===================================================================================\n",
       "Ljung-Box (L1) (Q):                   0.15   Jarque-Bera (JB):           1147562.45\n",
       "Prob(Q):                              0.70   Prob(JB):                         0.00\n",
       "Heteroskedasticity (H):               0.85   Skew:                             5.63\n",
       "Prob(H) (two-sided):                  0.00   Kurtosis:                        90.90\n",
       "===================================================================================\n",
       "\n",
       "Warnings:\n",
       "[1] Covariance matrix calculated using the outer product of gradients (complex-step).\n",
       "\"\"\""
      ]
     },
     "execution_count": 20,
     "metadata": {},
     "output_type": "execute_result"
    }
   ],
   "source": [
    "p, d, q = auto_model.order\n",
    "\n",
    "# Fit the model using the best parameters and exogenous variables\n",
    "auto_arimax_model = SARIMAX(y_train, exog=X_train, order=(p, d, q))\n",
    "auto_model_fit = auto_arimax_model.fit()\n",
    "\n",
    "auto_model_fit.summary()"
   ]
  },
  {
   "cell_type": "markdown",
   "id": "5078310f",
   "metadata": {},
   "source": [
    "#### Make Predictions and Evaluate the Model on the Test Data"
   ]
  },
  {
   "cell_type": "code",
   "execution_count": 21,
   "id": "0ff83de5",
   "metadata": {},
   "outputs": [
    {
     "name": "stdout",
     "output_type": "stream",
     "text": [
      "Automatic ARIMA Model RMSE: 27.269445110260325\n"
     ]
    }
   ],
   "source": [
    "# Make predictions on the test data\n",
    "auto_predictions = auto_model_fit.predict(start=len(y_train), end=len(y_train) + len(y_test) - 1, exog=X_test)\n",
    "\n",
    "# Calculate the RMSE (Root Mean Squared Error)\n",
    "auto_rmse = mean_squared_error(y_test, auto_predictions, squared=False)\n",
    "print(f'Automatic ARIMA Model RMSE: {auto_rmse}')"
   ]
  },
  {
   "cell_type": "code",
   "execution_count": 22,
   "id": "ff17db82",
   "metadata": {},
   "outputs": [
    {
     "data": {
      "text/plain": [
       "<matplotlib.legend.Legend at 0x2a30b855290>"
      ]
     },
     "execution_count": 22,
     "metadata": {},
     "output_type": "execute_result"
    },
    {
     "data": {
      "image/png": "[encoded data removed]",
      "text/plain": [
       "<Figure size 1000x600 with 1 Axes>"
      ]
     },
     "metadata": {},
     "output_type": "display_data"
    }
   ],
   "source": [
    "plt.figure(figsize=(10, 6))\n",
    "plt.plot(y_test.index, y_test, label='Actual Number of Fires')\n",
    "plt.plot(y_test.index, auto_predictions, label='Predicted Number of Fires (Auto ARIMA)', linestyle='--')\n",
    "plt.title('Actual vs Predicted Wildfires per Day (Automatic ARIMA)')\n",
    "plt.xlabel('Date')\n",
    "plt.ylabel('Number of Wildfires')\n",
    "plt.legend()"
   ]
  },
  {
   "cell_type": "markdown",
   "id": "72bc08e6",
   "metadata": {},
   "source": [
    "### SARIMAX model for seasonality"
   ]
  },
  {
   "cell_type": "code",
   "execution_count": 23,
   "id": "d580ba65",
   "metadata": {},
   "outputs": [],
   "source": [
    "# Run auto_arima with seasonality\n",
    "# auto_model_sarima = auto_arima(y_train, \n",
    "#     exogenous=X_train, \n",
    "#     seasonal=True, \n",
    "#     m=30,  \n",
    "#     maxiter=20, \n",
    "#     max_p=3, max_q=3, \n",
    "#     max_P=2, max_Q=2, \n",
    "#     trace=True, \n",
    "#     suppress_warnings=True)\n",
    "\n",
    "# auto_model_sarima.summary()"
   ]
  },
  {
   "cell_type": "code",
   "execution_count": 24,
   "id": "079bc8a6",
   "metadata": {},
   "outputs": [],
   "source": [
    "# Make predictions on the test data using the trained SARIMAX model\n",
    "# sarimax_predictions = auto_model_sarima.predict(\n",
    "#     start=y_train.shape[0], \n",
    "#     end=y_train.shape[0] + y_test.shape[0] - 1, \n",
    "#     exogenous=X_test, \n",
    "#     dynamic=False  \n",
    "# )\n",
    "\n",
    "# # Check the lengths of y_test and sarimax_predictions\n",
    "# print(f'Length of y_test: {len(y_test)}')\n",
    "# print(f'Length of sarimax_predictions: {len(sarimax_predictions)}')\n",
    "# print(f'Length of X_test: {len(X_test)}')\n",
    "# print(f'Length of y_train: {len(y_train)}')\n",
    "# print(y_train.shape[0] + y_test.shape[0] - 1)\n",
    "\n",
    "\n",
    "# Now calculate the RMSE after ensuring consistent lengths\n",
    "# sarimax_rmse = mean_squared_error(y_test, sarimax_predictions, squared=False)\n",
    "# print(f'Root Mean Squared Error (RMSE) for SARIMAX: {sarimax_rmse}')\n"
   ]
  },
  {
   "cell_type": "code",
   "execution_count": 25,
   "id": "397401cf",
   "metadata": {},
   "outputs": [],
   "source": [
    "# Visualize the Actual vs. Predicted Value\n",
    "# plt.figure(figsize=(10, 6))\n",
    "# plt.plot(y_test.index, y_test, label='Actual Number of Fires')\n",
    "# plt.plot(y_test.index, sarimax_predictions, label='Predicted Number of Fires (SARIMAX)', linestyle='--')\n",
    "# plt.title('Actual vs Predicted Wildfires per Day (SARIMAX)')\n",
    "# plt.xlabel('Date')\n",
    "# plt.ylabel('Number of Wildfires')\n",
    "# plt.legend()"
   ]
  },
  {
   "cell_type": "code",
   "execution_count": 26,
   "id": "6e350e4a",
   "metadata": {},
   "outputs": [],
   "source": [
    "# auto_model_sarima = auto_arima(\n",
    "#     y_train, \n",
    "#     exogenous=None, \n",
    "#     seasonal=True, \n",
    "#     m=365, \n",
    "#     maxiter=10, \n",
    "#     max_p=2, max_q=2, \n",
    "#     max_P=1, max_Q=1, \n",
    "#     trace=True, \n",
    "#     stepwise=True,\n",
    "#     suppress_warnings=True\n",
    "# )\n",
    "\n",
    "# auto_model_sarima.summary()"
   ]
  },
  {
   "cell_type": "code",
   "execution_count": null,
   "id": "f646e969",
   "metadata": {},
   "outputs": [],
   "source": [
    "# Manually set ARIMA and seasonal parameters (you can tweak these values)\n",
    "model = SARIMAX(\n",
    "    y_train, \n",
    "    order=(2, 0, 2),  # ARIMA parameters (p, d, q)\n",
    "    seasonal_order=(1, 0, 1, 365)  # Seasonal ARIMA parameters (P, D, Q, m)\n",
    ")\n",
    "\n",
    "# Fit the SARIMAX model\n",
    "sarimax_manual = model.fit(disp=False)\n",
    "\n",
    "# Make predictions\n",
    "sarimax_predictions_manual = sarimax_manual.predict(\n",
    "    start=len(y_train), \n",
    "    end=len(y_train) + len(y_test) - 1\n",
    ")\n",
    "\n",
    "print(sarimax_manual.summary())"
   ]
  }
 ],
 "metadata": {
  "kernelspec": {
   "display_name": "Python 3 (ipykernel)",
   "language": "python",
   "name": "python3"
  },
  "language_info": {
   "codemirror_mode": {
    "name": "ipython",
    "version": 3
   },
   "file_extension": ".py",
   "mimetype": "text/x-python",
   "name": "python",
   "nbconvert_exporter": "python",
   "pygments_lexer": "ipython3",
   "version": "3.11.4"
  }
 },
 "nbformat": 4,
 "nbformat_minor": 5
}
